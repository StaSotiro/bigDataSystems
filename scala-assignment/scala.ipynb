{
 "metadata": {
  "language_info": {
   "codemirror_mode": {
    "name": "ipython",
    "version": 3
   },
   "file_extension": ".py",
   "mimetype": "text/x-python",
   "name": "python",
   "nbconvert_exporter": "python",
   "pygments_lexer": "ipython3",
   "version": "3.7.4"
  },
  "orig_nbformat": 2,
  "kernelspec": {
   "name": "python3",
   "display_name": "Python 3.7.4 64-bit ('base': conda)",
   "metadata": {
    "interpreter": {
     "hash": "023866bcb11fbd497308e527800e6910e0a2b0ed4577baff85e6b7650bb798d8"
    }
   }
  }
 },
 "nbformat": 4,
 "nbformat_minor": 2,
 "cells": [
  {
   "cell_type": "code",
   "execution_count": 1,
   "metadata": {},
   "outputs": [],
   "source": [
    "import findspark\n",
    "from pyspark.sql import SparkSession\n",
    "# import pyspark\n",
    "findspark.init()"
   ]
  },
  {
   "cell_type": "code",
   "execution_count": 23,
   "metadata": {},
   "outputs": [],
   "source": [
    " from pyspark.sql.functions import *\n",
    " import pandas as pd\n",
    " from pyspark.ml.regression import LinearRegression\n",
    " from pyspark.ml.feature import VectorAssembler,StringIndexer, OneHotEncoder\n",
    " from pyspark.ml  import  Pipeline\n",
    " from pyspark.ml.evaluation import RegressionEvaluator"
   ]
  },
  {
   "source": [
    "Load and explore the data's structure / form"
   ],
   "cell_type": "markdown",
   "metadata": {}
  },
  {
   "cell_type": "code",
   "execution_count": 3,
   "metadata": {},
   "outputs": [],
   "source": [
    "spark = SparkSession.builder.appName(\"Flights\").getOrCreate()"
   ]
  },
  {
   "cell_type": "code",
   "execution_count": 4,
   "metadata": {},
   "outputs": [],
   "source": [
    "flightData = spark.read.option(\"header\",\"true\").option(\"inferSchema\",\"true\").csv(\"./flights.csv\")"
   ]
  },
  {
   "cell_type": "code",
   "execution_count": 5,
   "metadata": {},
   "outputs": [
    {
     "output_type": "execute_result",
     "data": {
      "text/plain": [
       "[Row(FL_DATE='2019-01-01', TAIL_NUM='N8974C', CARRIER='9E', ORIGIN='AVL', ORIGIN_CITY_NAME='Asheville, NC', DEST='ATL', DEST_CITY_NAME='Atlanta, GA', DEP_TIME=1658, DEP_DELAY=-7.0, ARR_TIME=1758, ARR_DELAY=-22.0, CANCELLED=0.0, CANCELLATION_CODE=None, DIVERTED=0.0, CARRIER_DELAY=None, WEATHER_DELAY=None, NAS_DELAY=None, SECURITY_DELAY=None, LATE_AIRCRAFT_DELAY=None, _c19=None),\n",
       " Row(FL_DATE='2019-01-01', TAIL_NUM='N922XJ', CARRIER='9E', ORIGIN='JFK', ORIGIN_CITY_NAME='New York, NY', DEST='RDU', DEST_CITY_NAME='Raleigh/Durham, NC', DEP_TIME=1122, DEP_DELAY=-8.0, ARR_TIME=1255, ARR_DELAY=-29.0, CANCELLED=0.0, CANCELLATION_CODE=None, DIVERTED=0.0, CARRIER_DELAY=None, WEATHER_DELAY=None, NAS_DELAY=None, SECURITY_DELAY=None, LATE_AIRCRAFT_DELAY=None, _c19=None),\n",
       " Row(FL_DATE='2019-01-01', TAIL_NUM='N326PQ', CARRIER='9E', ORIGIN='CLE', ORIGIN_CITY_NAME='Cleveland, OH', DEST='DTW', DEST_CITY_NAME='Detroit, MI', DEP_TIME=1334, DEP_DELAY=-7.0, ARR_TIME=1417, ARR_DELAY=-31.0, CANCELLED=0.0, CANCELLATION_CODE=None, DIVERTED=0.0, CARRIER_DELAY=None, WEATHER_DELAY=None, NAS_DELAY=None, SECURITY_DELAY=None, LATE_AIRCRAFT_DELAY=None, _c19=None),\n",
       " Row(FL_DATE='2019-01-01', TAIL_NUM='N135EV', CARRIER='9E', ORIGIN='BHM', ORIGIN_CITY_NAME='Birmingham, AL', DEST='ATL', DEST_CITY_NAME='Atlanta, GA', DEP_TIME=1059, DEP_DELAY=-1.0, ARR_TIME=1255, ARR_DELAY=-8.0, CANCELLED=0.0, CANCELLATION_CODE=None, DIVERTED=0.0, CARRIER_DELAY=None, WEATHER_DELAY=None, NAS_DELAY=None, SECURITY_DELAY=None, LATE_AIRCRAFT_DELAY=None, _c19=None),\n",
       " Row(FL_DATE='2019-01-01', TAIL_NUM='N914XJ', CARRIER='9E', ORIGIN='GTF', ORIGIN_CITY_NAME='Great Falls, MT', DEST='MSP', DEST_CITY_NAME='Minneapolis, MN', DEP_TIME=1057, DEP_DELAY=-3.0, ARR_TIME=1418, ARR_DELAY=-17.0, CANCELLED=0.0, CANCELLATION_CODE=None, DIVERTED=0.0, CARRIER_DELAY=None, WEATHER_DELAY=None, NAS_DELAY=None, SECURITY_DELAY=None, LATE_AIRCRAFT_DELAY=None, _c19=None)]"
      ]
     },
     "metadata": {},
     "execution_count": 5
    }
   ],
   "source": [
    "flightData.head(5)"
   ]
  },
  {
   "source": [
    "Create a temp view, to be able to work easier"
   ],
   "cell_type": "markdown",
   "metadata": {}
  },
  {
   "cell_type": "code",
   "execution_count": 6,
   "metadata": {},
   "outputs": [],
   "source": [
    "flightData.createOrReplaceTempView(\"flights_table\") "
   ]
  },
  {
   "source": [
    "Q1"
   ],
   "cell_type": "markdown",
   "metadata": {}
  },
  {
   "cell_type": "code",
   "execution_count": 7,
   "metadata": {},
   "outputs": [
    {
     "output_type": "stream",
     "name": "stdout",
     "text": [
      "+---------------------+-------------------+\n|averageDepartureDelay|averageArrivalDelay|\n+---------------------+-------------------+\n|   10.923267333861132|  5.414849168270909|\n+---------------------+-------------------+\n\n"
     ]
    }
   ],
   "source": [
    "sqlDF = spark.sql(\"SELECT avg(DEP_DELAY) as averageDepartureDelay,avg(ARR_DELAY) as averageArrivalDelay FROM flights_table\") \n",
    "sqlDF.show() "
   ]
  },
  {
   "cell_type": "code",
   "execution_count": 8,
   "metadata": {},
   "outputs": [
    {
     "output_type": "stream",
     "name": "stdout",
     "text": [
      "+------------------+-----------------+\n|    avg(DEP_DELAY)|   avg(ARR_DELAY)|\n+------------------+-----------------+\n|10.923267333861132|5.414849168270909|\n+------------------+-----------------+\n\n"
     ]
    }
   ],
   "source": [
    "dataf_way = flightData.agg({\"DEP_DELAY\": \"avg\",\"ARR_DELAY\": \"avg\"}) \n",
    "dataf_way.show() "
   ]
  },
  {
   "source": [
    "Q2"
   ],
   "cell_type": "markdown",
   "metadata": {}
  },
  {
   "source": [
    "For this question I simplified the load of what the results we want, by fetching both the median and avg. Not sure if we wanted to remove the 1% with less rows or values. But I chose to not do that in SQL and do it in-code (cheating), which is slightly faster for me to write. We'd be probably creating a sort of another view from the following tables and perform the queries on top of it. "
   ],
   "cell_type": "markdown",
   "metadata": {}
  },
  {
   "cell_type": "code",
   "execution_count": 10,
   "metadata": {},
   "outputs": [
    {
     "output_type": "stream",
     "name": "stdout",
     "text": [
      "+---------------------+-----------+------------+-------+\n|averageDepartureDelay|MedianDelay|TotalFlights|Airline|\n+---------------------+-----------+------------+-------+\n|   10.178762481230244|        0.0|     1330598|     WN|\n|    8.155754169633253|       -2.0|      990195|     DL|\n|   12.114915337571487|       -2.0|      927448|     AA|\n|   12.564053392669365|       -3.0|      819738|     OO|\n|   13.004563709088917|       -3.0|      620767|     UA|\n+---------------------+-----------+------------+-------+\nonly showing top 5 rows\n\n"
     ]
    }
   ],
   "source": [
    "sqlDelaysAir = spark.sql(\"SELECT c.averageDepartureDelay, c.MedianDelay, c.TotalFlights, c.Airline FROM (SELECT avg(DEP_DELAY) as averageDepartureDelay,percentile_approx(DEP_DELAY, 0.5) as MedianDelay, COUNT(DEP_DELAY) as TotalFlights, CARRIER as Airline FROM flights_table GROUP BY CARRIER) as c \").sort(col(\"TotalFlights\").desc())\n",
    "sqlDelaysAir.show(5)"
   ]
  },
  {
   "cell_type": "code",
   "execution_count": 13,
   "metadata": {},
   "outputs": [
    {
     "output_type": "stream",
     "name": "stdout",
     "text": [
      "+---------------------+-----------+------------+------+\n|averageDepartureDelay|MedianDelay|TotalFlights|Origin|\n+---------------------+-----------+------------+------+\n|    8.815516969138223|       -1.0|      392654|   ATL|\n|    14.68775798853924|       -2.0|      329472|   ORD|\n|   13.077739563367613|       -2.0|      296863|   DFW|\n|   13.582163097345848|       -1.0|      247386|   DEN|\n|   10.720337668381726|       -2.0|      232062|   CLT|\n+---------------------+-----------+------------+------+\nonly showing top 5 rows\n\n"
     ]
    }
   ],
   "source": [
    "sqlDelaysAirPorts = spark.sql(\"SELECT c.averageDepartureDelay, c.MedianDelay, c.TotalFlights, c.Origin FROM (SELECT avg(DEP_DELAY) as averageDepartureDelay,percentile_approx(DEP_DELAY, 0.5) as MedianDelay, COUNT(DEP_DELAY) as TotalFlights, ORIGIN as Origin FROM flights_table GROUP BY ORIGIN) as c\").sort(col(\"TotalFlights\").desc())\n",
    "sqlDelaysAirPorts.show(5)"
   ]
  },
  {
   "source": [
    "Write the CSVs, but I'm cheating"
   ],
   "cell_type": "markdown",
   "metadata": {}
  },
  {
   "cell_type": "code",
   "execution_count": 70,
   "metadata": {},
   "outputs": [],
   "source": [
    "delaysAirPd = sqlDelaysAir.toPandas()\n",
    "delaysAirPortsPd = sqlDelaysAirPorts.toPandas()"
   ]
  },
  {
   "cell_type": "code",
   "execution_count": 73,
   "metadata": {},
   "outputs": [],
   "source": [
    "delaysAirPd[0:int(len(delaysAirPd)*0.9)].to_csv('delaysAirline.csv')\n",
    "delaysAirPortsPd[0:int(len(delaysAirPortsPd)*0.9)].to_csv('delaysAirPortsPd.csv')"
   ]
  },
  {
   "source": [
    "Q3"
   ],
   "cell_type": "markdown",
   "metadata": {}
  },
  {
   "source": [
    "Cleaning the data, removing Null values if existing"
   ],
   "cell_type": "markdown",
   "metadata": {}
  },
  {
   "cell_type": "code",
   "execution_count": 14,
   "metadata": {},
   "outputs": [
    {
     "output_type": "stream",
     "name": "stdout",
     "text": [
      "+----------+--------+-------+------+----------------+----+------------------+--------+---------+--------+---------+---------+-----------------+--------+-------------+-------------+---------+--------------+-------------------+----+---------+\n|   FL_DATE|TAIL_NUM|CARRIER|ORIGIN|ORIGIN_CITY_NAME|DEST|    DEST_CITY_NAME|DEP_TIME|DEP_DELAY|ARR_TIME|ARR_DELAY|CANCELLED|CANCELLATION_CODE|DIVERTED|CARRIER_DELAY|WEATHER_DELAY|NAS_DELAY|SECURITY_DELAY|LATE_AIRCRAFT_DELAY|_c19|TOT_DELAY|\n+----------+--------+-------+------+----------------+----+------------------+--------+---------+--------+---------+---------+-----------------+--------+-------------+-------------+---------+--------------+-------------------+----+---------+\n|2019-01-01|  N8974C|     9E|   AVL|   Asheville, NC| ATL|       Atlanta, GA|    1658|     -7.0|    1758|    -22.0|      0.0|             null|     0.0|         null|         null|     null|          null|               null|null|    -29.0|\n|2019-01-01|  N922XJ|     9E|   JFK|    New York, NY| RDU|Raleigh/Durham, NC|    1122|     -8.0|    1255|    -29.0|      0.0|             null|     0.0|         null|         null|     null|          null|               null|null|    -37.0|\n|2019-01-01|  N326PQ|     9E|   CLE|   Cleveland, OH| DTW|       Detroit, MI|    1334|     -7.0|    1417|    -31.0|      0.0|             null|     0.0|         null|         null|     null|          null|               null|null|    -38.0|\n|2019-01-01|  N135EV|     9E|   BHM|  Birmingham, AL| ATL|       Atlanta, GA|    1059|     -1.0|    1255|     -8.0|      0.0|             null|     0.0|         null|         null|     null|          null|               null|null|     -9.0|\n|2019-01-01|  N914XJ|     9E|   GTF| Great Falls, MT| MSP|   Minneapolis, MN|    1057|     -3.0|    1418|    -17.0|      0.0|             null|     0.0|         null|         null|     null|          null|               null|null|    -20.0|\n+----------+--------+-------+------+----------------+----+------------------+--------+---------+--------+---------+---------+-----------------+--------+-------------+-------------+---------+--------------+-------------------+----+---------+\nonly showing top 5 rows\n\n"
     ]
    }
   ],
   "source": [
    "totDelayData = spark.sql(\"SELECT *, DEP_DELAY + ARR_DELAY as TOT_DELAY FROM flights_table\").filter(\"CARRIER IS NOT NULL and ORIGIN IS NOT NULL and DEP_TIME IS NOT NULL and ARR_DELAY IS NOT NULL\")\n",
    "totDelayData.show(5)"
   ]
  },
  {
   "source": [
    "Generate factors from the string variables, to have it available for the model. What I did not do was proper cleaning/remove outliers, due to lacking some time."
   ],
   "cell_type": "markdown",
   "metadata": {}
  },
  {
   "cell_type": "code",
   "execution_count": 15,
   "metadata": {},
   "outputs": [],
   "source": [
    "carrIndexer = StringIndexer(inputCol=\"CARRIER\", outputCol=\"CARRIER_I\")\n",
    "carrEncoder = OneHotEncoder(inputCol=\"CARRIER_I\", outputCol=\"CARRIER_F\")\n",
    "\n",
    "destIndexer = StringIndexer(inputCol=\"ORIGIN\", outputCol=\"ORIGIN_I\")\n",
    "destEncoder = OneHotEncoder(inputCol=\"ORIGIN_I\", outputCol=\"ORIGIN_F\")"
   ]
  },
  {
   "cell_type": "code",
   "execution_count": 16,
   "metadata": {},
   "outputs": [],
   "source": [
    "vectorAssembler = VectorAssembler(inputCols = [\"ORIGIN_F\",\"CARRIER_F\", \"DEP_TIME\"], outputCol = 'FEATURES')"
   ]
  },
  {
   "cell_type": "code",
   "execution_count": 17,
   "metadata": {},
   "outputs": [],
   "source": [
    "flights_pipe = Pipeline(stages=[destIndexer, destEncoder, carrIndexer, carrEncoder, vectorAssembler])"
   ]
  },
  {
   "cell_type": "code",
   "execution_count": 18,
   "metadata": {},
   "outputs": [],
   "source": [
    "piped_data = flights_pipe.fit(totDelayData).transform(totDelayData)"
   ]
  },
  {
   "source": [
    "Generate a train-test dataset. Use the data to create, train and test the regression model"
   ],
   "cell_type": "markdown",
   "metadata": {}
  },
  {
   "cell_type": "code",
   "execution_count": 20,
   "metadata": {},
   "outputs": [],
   "source": [
    "splits = piped_data.randomSplit([0.7, 0.3])\n",
    "train_df = splits[0]\n",
    "test_df = splits[1]"
   ]
  },
  {
   "cell_type": "code",
   "execution_count": 21,
   "metadata": {},
   "outputs": [
    {
     "output_type": "stream",
     "name": "stdout",
     "text": [
      "Coefficients: [24.051072686092787,36.71517809557618,32.069323746815435,33.248870876038424,26.06521346287511,25.378222274301336,27.42159240730509,25.09763477274653,32.48140856991804,37.896759756543744,28.724947162555015,26.95236179404192,24.19015376328084,32.43733089314453,27.22447301437999,33.98458554437816,29.269221767721632,42.028871952198486,25.739272129875708,27.12591594184418,19.707244602747785,29.4150095626563,32.43639628725368,23.92018578382683,26.966033322661485,31.1272589238254,33.28588320699031,30.331120161764325,30.817381856008062,26.945785455656416,32.28415956962207,30.105303007236884,34.20494035368983,23.098784759819925,22.031265771450194,31.824883602453504,31.79984781046538,27.766782246010248,27.28144938057476,15.447555518441824,23.442243202315776,27.57696152665111,29.008077985730065,30.53965554922803,34.79696622189321,29.118441560022145,23.713596374126706,26.246427111547703,27.83605826231599,29.08421679726241,25.233344790810275,28.997936331851964,26.28725572579549,15.112563458780233,33.42167636225961,31.80263120534146,29.682201092266418,32.39302580754897,27.599091017849695,30.618223945851753,29.78053976462126,33.04672912112262,32.07630372674158,31.175215986899524,30.208648940323688,26.005811831391853,24.56601095541352,33.34748714848055,28.0184641472771,24.948611303422766,17.625287586023983,33.81977618010937,32.28781893207737,29.515844317492224,33.020300747840686,27.92638655548505,27.808737644914732,29.814018223829116,16.6420564873364,33.78982584396555,7.188387659507327,30.237840543752036,33.114799372095895,11.507515292783241,33.33605306285125,36.75457900707604,28.523573360517013,32.7205877978334,32.27950013059521,29.509937133267368,31.302181050253875,29.462244531343327,30.115464854957093,28.17584480139095,31.91108146170399,39.817533484592914,36.59358727351034,26.753370661753937,31.654522108763896,41.138651279083234,28.225160570283332,42.71317837081914,31.993210931428962,25.66779501187631,37.465805974528244,33.81468767070192,31.212941094565036,27.879962343578534,43.40518741376816,32.63832383846418,33.364412744102275,27.864751951191177,19.06538904151542,27.421323770094066,28.014647902146727,31.657595295929777,35.48335360155647,34.2296837893056,37.44201480016654,28.4689073160572,35.66906415872377,31.684350308932054,31.813400043138778,27.175668316731194,27.81236608470277,32.847089691630615,38.71472243584427,8.879894179386286,56.541719374467654,44.58234805154337,39.060521913278684,22.89421907411561,34.58958780555986,30.796913205008227,30.280781881612622,23.233138203667668,22.79516257829763,31.408040150946547,41.326474621180694,33.724793883301054,30.482429960819072,29.825116325406402,28.287913050940013,33.74213452147111,30.81863029945003,37.38202256455955,34.68541815771932,39.30341750879398,14.161608963810943,37.81210774421916,46.38703585305759,31.422771700386043,20.04542039828027,41.35897610283638,25.38905615200254,33.73701699379287,27.89390410894139,36.63868538090742,33.60253411260597,27.034734775936666,23.555099119941968,40.10105861536678,34.13821559427476,41.771735569171035,14.183159127248544,31.164447916378936,38.05938376699391,31.080827600443246,33.00883879785749,30.669956757586448,28.18128108411229,30.307942692649277,38.54303848561024,23.542858430652466,49.68535904381544,29.292644324450546,34.868849479126226,28.725076459993854,20.290238307365275,19.2330645721717,33.30914887699184,29.20649772544321,36.62976054245647,27.216788592373256,28.46524242920602,36.296128259353395,29.584755097065408,45.03617324162251,20.743124548368606,27.639567143428422,21.850834871216122,27.53974574713211,24.252649561928216,32.97985740409696,27.818059198672763,27.380171043625555,26.277276623933687,12.97883106259858,27.319196146953242,49.89618950230209,30.729483314365282,38.66433964475912,56.48707818928958,15.386749075896539,43.10859356472664,51.10569683319942,40.69736216792427,24.40776273719877,34.1249014492904,26.656355105142374,15.855527162643394,25.220270835433478,35.377696599941565,17.317311598242593,21.809025097204152,23.371277559574253,37.04633430805077,66.81228102067678,23.583851767728685,12.560797385828236,25.81819077585161,25.297047866923254,36.50090716461753,27.655234390886886,29.452103738040766,38.054272232823116,40.95358272515703,30.55496792866985,25.701428102097157,30.20893484112352,55.7829526534007,19.39492806946177,37.49904972931392,29.86056442369978,16.638220981039495,41.54519972388769,51.49034321230612,44.27871891337129,17.303837469096067,42.70132714912872,30.77697906196522,29.405270522313035,28.300842932304395,28.333547711555223,44.67906989582613,33.93331545607844,24.778129478311044,48.870769932134294,30.98289813618267,29.241504766132422,60.84625018249581,47.26439492515303,5.5408902966668565,19.525577714060944,44.70531863454899,39.865232240627414,18.011630630243832,31.71942892862836,25.396279707738245,27.102579514552257,37.88223403223454,20.81984199882821,51.166528378993235,31.402575652957314,47.80359070822852,14.00961702689071,41.10418779028154,41.30089590602026,5.362434186691111,66.55716941671385,37.9458966192146,48.93487682217881,40.996068481414234,21.292401877806807,15.492564534137808,25.381072606651593,59.3067108410292,9.180508376552032,28.35352159651838,18.05459592980342,56.800512521881274,29.513965997629658,55.250023326364044,13.356836505811883,25.48628291421216,18.042460703995342,43.02606668981054,28.58460930961636,36.46243428961321,47.54097836695662,24.43624957638566,43.1294280778703,39.07529489089695,33.05665099155126,0.3366680090568604,22.97571355837276,8.528490076293137,18.224556396416585,19.425534726034723,43.05599926547835,37.23893188219724,4.861095244692113,0.6494830408327528,45.1690997702432,34.313186156424834,11.303430481127158,37.37183653755002,62.18819645354129,20.43932823368317,68.8781254285608,20.98585421610277,48.59187521148476,49.254557449857174,29.048761157886933,19.67251318505318,7.20716851140445,38.943593156960716,40.35651128709144,30.12909787035138,27.325102328167734,21.6983890124813,19.13726036580745,41.901754523328044,42.91354184247859,30.90928472034773,48.87132437279199,35.17567066044482,17.521867349053817,51.2570675990611,37.1444203724898,24.274106718857563,52.57977950647057,45.51455484466082,45.046955107616434,52.59170405755352,29.907699771907247,56.07762572217898,13.1574255880385,73.36237447601354,26.681446046863183,30.967289208433133,81.73091521539244,12.850235899919408,39.035877095488274,18.513730600004724,46.80887139921064,72.48020621360209,31.92172653287587,54.540024060421274,18.608773838916775,26.404672988806464,37.61559591572933,49.846328335921235,32.0155631753832,30.635722221367413,62.49578207353278,11.615771233791861,0.06755702130284591,18.24309009824266,-5.187761631770748,-6.694260580634618,1.3163039929260625,0.782270469346206,1.6026321756197845,-6.74547594664896,-5.4275210941113485,9.413499542971767,-0.8443823796029457,-7.299304369109581,-5.502583828957646,6.329166773220799,-3.7847169532803493,3.597366563698363,12.373945640740898,-0.21103286588334003,0.025499236054150547]\nIntercept: -45.50233631066438\n"
     ]
    }
   ],
   "source": [
    "lr = LinearRegression(featuresCol = 'FEATURES', labelCol=\"TOT_DELAY\")\n",
    "lr_model = lr.fit(train_df)\n",
    "print(\"Coefficients: \" + str(lr_model.coefficients))\n",
    "print(\"Intercept: \" + str(lr_model.intercept))"
   ]
  },
  {
   "source": [
    "Summarising the model"
   ],
   "cell_type": "markdown",
   "metadata": {}
  },
  {
   "cell_type": "code",
   "execution_count": 22,
   "metadata": {},
   "outputs": [
    {
     "output_type": "stream",
     "name": "stdout",
     "text": [
      "RMSE: 97.537574\nr2: 0.022665\n"
     ]
    }
   ],
   "source": [
    "trainingSummary = lr_model.summary\n",
    "print(\"RMSE: %f\" % trainingSummary.rootMeanSquaredError)\n",
    "print(\"r2: %f\" % trainingSummary.r2)"
   ]
  },
  {
   "cell_type": "code",
   "execution_count": 24,
   "metadata": {},
   "outputs": [
    {
     "output_type": "stream",
     "name": "stdout",
     "text": [
      "R Squared (R2) on test data = 0.0223041\n"
     ]
    }
   ],
   "source": [
    "testResults = lr_model.transform(test_df)\n",
    "testResults.select(\"prediction\", \"TOT_DELAY\", \"FEATURES\")\n",
    "\n",
    "evaluator = RegressionEvaluator(predictionCol=\"prediction\", \\\n",
    "                 labelCol=\"TOT_DELAY\",metricName=\"r2\")\n",
    "print(\"R Squared (R2) on test data = %g\" % evaluator.evaluate(testResults))"
   ]
  },
  {
   "source": [
    "To be expected since I did not correctly clean the data :) "
   ],
   "cell_type": "markdown",
   "metadata": {}
  },
  {
   "cell_type": "code",
   "execution_count": 27,
   "metadata": {},
   "outputs": [],
   "source": [
    "spark.stop()"
   ]
  },
  {
   "source": [
    "Q4\n",
    "That's not to get points or whatever. But as an idea, I think it would be nice, to have very small assignments throughout the lectures for each system (e.g. a very small one each week), so students follow the lectures and get a more practical idea. For instance for this assignment, we could break it in two parts. First week you install and run the query part, second week you work with the models and regression. I think it's nice, cause you will be also getting feedback from the students during the second lecture (when you teach regression). <br>\n",
    "Hopefully I managed to transfer what I wanted to say properly :D \n",
    "Overall I like the course quite a lot, but I'm all worn out from the other assignments that pilled up the last week :("
   ],
   "cell_type": "markdown",
   "metadata": {}
  },
  {
   "cell_type": "code",
   "execution_count": null,
   "metadata": {},
   "outputs": [],
   "source": []
  }
 ]
}